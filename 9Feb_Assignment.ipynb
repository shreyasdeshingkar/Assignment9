{
 "cells": [
  {
   "cell_type": "markdown",
   "id": "81bf47c5-917d-4735-b043-af2e87b8dac7",
   "metadata": {},
   "source": [
    "Que 1)Ans=>"
   ]
  },
  {
   "cell_type": "code",
   "execution_count": 1,
   "id": "3bee1dee-a8e3-40b4-b018-1f9d73e32608",
   "metadata": {},
   "outputs": [],
   "source": [
    "class Vehicle:\n",
    "    def __init__(self, name_of_vehicle, max_speed, average_of_vehicle):\n",
    "        self.name_of_vehicle = name_of_vehicle\n",
    "        self.max_speed = max_speed\n",
    "        self.average_of_vehicle = average_of_vehicle\n"
   ]
  },
  {
   "cell_type": "markdown",
   "id": "bead8588-06c7-42d1-b833-11500af68d73",
   "metadata": {},
   "source": [
    "Que 2)Ans=>"
   ]
  },
  {
   "cell_type": "code",
   "execution_count": 2,
   "id": "9a63cd14-abf1-4d22-8679-c96ed879db0f",
   "metadata": {},
   "outputs": [],
   "source": [
    "class Car(Vehicle):\n",
    "    def __init__(self, name_of_vehicle, max_speed, average_of_vehicle):\n",
    "        super().__init__(name_of_vehicle, max_speed, average_of_vehicle)\n",
    "    \n",
    "    def seating_capacity(self, capacity):\n",
    "        return f\"{self.name_of_vehicle} has a seating capacity of {capacity} passengers.\"\n"
   ]
  },
  {
   "cell_type": "code",
   "execution_count": 9,
   "id": "825e5f2f-9c7c-481a-b7bd-51a47a4e8b73",
   "metadata": {},
   "outputs": [
    {
     "name": "stdout",
     "output_type": "stream",
     "text": [
      "Honda Civic has a seating capacity of 5 passengers.\n"
     ]
    }
   ],
   "source": [
    "my_car = Car(\"Honda Civic\", 120, 30)\n",
    "print(my_car.seating_capacity(5))  "
   ]
  },
  {
   "cell_type": "markdown",
   "id": "620cf523-48f2-4bc2-b14d-927108b88c8c",
   "metadata": {},
   "source": [
    "Que 3)Ans=>"
   ]
  },
  {
   "cell_type": "markdown",
   "id": "481f16f4-22ff-4982-b71e-6667a13f9dca",
   "metadata": {},
   "source": [
    "Multiple inheritance is a feature in object-oriented programming where a subclass can inherit attributes and methods from multiple parent classes. This means that a subclass can have more than one direct superclass, and it can access and use the attributes and methods of all its parent classes.\n",
    "\n",
    "Here's an example of how to create a class that demonstrates multiple inheritance in Python:"
   ]
  },
  {
   "cell_type": "code",
   "execution_count": 4,
   "id": "5b556589-9e74-4065-83f8-9ce06a7fba78",
   "metadata": {},
   "outputs": [
    {
     "name": "stdout",
     "output_type": "stream",
     "text": [
      "The animal speaks.\n",
      "The mammal eats.\n",
      "Fido barks.\n"
     ]
    }
   ],
   "source": [
    "class Animal:\n",
    "    def speak(self):\n",
    "        print(\"The animal speaks.\")\n",
    "\n",
    "class Mammal:\n",
    "    def eat(self):\n",
    "        print(\"The mammal eats.\")\n",
    "\n",
    "class Dog(Animal, Mammal):\n",
    "    def __init__(self, name):\n",
    "        self.name = name\n",
    "    \n",
    "    def bark(self):\n",
    "        print(f\"{self.name} barks.\")\n",
    "\n",
    "my_dog = Dog(\"Fido\")\n",
    "my_dog.speak()  \n",
    "my_dog.eat()    \n",
    "my_dog.bark()   \n"
   ]
  },
  {
   "cell_type": "markdown",
   "id": "19289fec-ed96-41c2-96a7-d4490e974ff3",
   "metadata": {},
   "source": [
    "Que 4)Ans=>"
   ]
  },
  {
   "cell_type": "code",
   "execution_count": 5,
   "id": "83228810-7623-433a-9e8f-245baff26555",
   "metadata": {},
   "outputs": [],
   "source": [
    "class Person:\n",
    "    def __init__(self, name):\n",
    "        self._name = name\n",
    "    \n",
    "    def get_name(self):\n",
    "        return self._name\n",
    "    \n",
    "    def set_name(self, name):\n",
    "        self._name = name\n"
   ]
  },
  {
   "cell_type": "code",
   "execution_count": 7,
   "id": "8cd1651b-eca3-4485-9c38-8754bf9563e4",
   "metadata": {},
   "outputs": [
    {
     "name": "stdout",
     "output_type": "stream",
     "text": [
      "Alice\n",
      "Bob\n"
     ]
    }
   ],
   "source": [
    "person = Person(\"Alice\")\n",
    "print(person.get_name())  \n",
    "\n",
    "person.set_name(\"Bob\")\n",
    "print(person.get_name())  \n"
   ]
  },
  {
   "cell_type": "markdown",
   "id": "7824671e-1455-41af-a585-5331749f8466",
   "metadata": {},
   "source": [
    "Que 5)Ans=>"
   ]
  },
  {
   "cell_type": "markdown",
   "id": "5a9598a4-760d-4706-86d5-ebe455317619",
   "metadata": {},
   "source": [
    "Method overriding is a feature of object-oriented programming that allows a subclass to provide its own implementation of a method that is already defined in its superclass. When a method in a subclass has the same name and signature as a method in its superclass, the method in the subclass overrides the method in the superclass.\n",
    "\n",
    "Here's an example of a class that demonstrates method overriding in Python:"
   ]
  },
  {
   "cell_type": "code",
   "execution_count": 8,
   "id": "5fd0e0da-179e-4c62-a5e6-0b7ded030c62",
   "metadata": {},
   "outputs": [
    {
     "name": "stdout",
     "output_type": "stream",
     "text": [
      "The dog barks.\n"
     ]
    }
   ],
   "source": [
    "class Animal:\n",
    "    def make_sound(self):\n",
    "        print(\"The animal makes a sound.\")\n",
    "\n",
    "class Dog(Animal):\n",
    "    def make_sound(self):\n",
    "        print(\"The dog barks.\")\n",
    "\n",
    "my_dog = Dog()\n",
    "my_dog.make_sound()  "
   ]
  },
  {
   "cell_type": "code",
   "execution_count": null,
   "id": "6fc4bd17-7654-49ac-b04c-bc8efbf5308c",
   "metadata": {},
   "outputs": [],
   "source": []
  }
 ],
 "metadata": {
  "kernelspec": {
   "display_name": "Python 3 (ipykernel)",
   "language": "python",
   "name": "python3"
  },
  "language_info": {
   "codemirror_mode": {
    "name": "ipython",
    "version": 3
   },
   "file_extension": ".py",
   "mimetype": "text/x-python",
   "name": "python",
   "nbconvert_exporter": "python",
   "pygments_lexer": "ipython3",
   "version": "3.10.8"
  }
 },
 "nbformat": 4,
 "nbformat_minor": 5
}
